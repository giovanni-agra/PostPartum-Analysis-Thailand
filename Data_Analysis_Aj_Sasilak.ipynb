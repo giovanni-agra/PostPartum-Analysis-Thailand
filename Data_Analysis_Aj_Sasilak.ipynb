{
  "nbformat": 4,
  "nbformat_minor": 0,
  "metadata": {
    "colab": {
      "provenance": [],
      "authorship_tag": "ABX9TyP76Sf2mfVcCxa+ivvW41He",
      "include_colab_link": true
    },
    "kernelspec": {
      "name": "python3",
      "display_name": "Python 3"
    },
    "language_info": {
      "name": "python"
    }
  },
  "cells": [
    {
      "cell_type": "markdown",
      "metadata": {
        "id": "view-in-github",
        "colab_type": "text"
      },
      "source": [
        "<a href=\"https://colab.research.google.com/github/giovanni-agra/PostPartum-Analysis-Thailand/blob/main/Data_Analysis_Aj_Sasilak.ipynb\" target=\"_parent\"><img src=\"https://colab.research.google.com/assets/colab-badge.svg\" alt=\"Open In Colab\"/></a>"
      ]
    },
    {
      "cell_type": "code",
      "execution_count": 5,
      "metadata": {
        "id": "2ARz72fRpKME"
      },
      "outputs": [],
      "source": [
        "import pandas as pd\n",
        "import numpy as np\n",
        "import matplotlib.pyplot as plt\n",
        "import seaborn as sns\n",
        "from scipy import stats\n",
        "import re"
      ]
    },
    {
      "cell_type": "code",
      "source": [
        "from google.colab import drive\n",
        "drive.mount('/content/drive')"
      ],
      "metadata": {
        "colab": {
          "base_uri": "https://localhost:8080/"
        },
        "id": "1J_TPt5TpdFG",
        "outputId": "e0d16bf5-2293-40a1-f442-756230c4e19e"
      },
      "execution_count": 9,
      "outputs": [
        {
          "output_type": "stream",
          "name": "stdout",
          "text": [
            "Mounted at /content/drive\n"
          ]
        }
      ]
    },
    {
      "cell_type": "code",
      "source": [
        "df = pd.read_csv('/content/drive/MyDrive/Dataset_Sasilak_2025.csv')"
      ],
      "metadata": {
        "id": "QHb5IAB1p1oF"
      },
      "execution_count": 10,
      "outputs": []
    },
    {
      "cell_type": "code",
      "source": [
        "# Checking dimensions (rows, columns)\n",
        "print(f\"Dataset dimensions: {df.shape}\")\n",
        "\n",
        "# Examine variable names and data types\n",
        "print(\"\\nColumn names and data types:\")\n",
        "print(df.dtypes)\n",
        "\n",
        "# View sample rows to understand context\n",
        "print(\"\\nSample rows:\")\n",
        "print(df.head())\n",
        "\n",
        "# Basic summary statistics\n",
        "print(\"\\nSummary statistics:\")\n",
        "print(df.describe())"
      ],
      "metadata": {
        "colab": {
          "base_uri": "https://localhost:8080/"
        },
        "id": "RbUaqQXnqBxF",
        "outputId": "201485f0-5d12-45d7-e3b0-6c94530cddf3"
      },
      "execution_count": 11,
      "outputs": [
        {
          "output_type": "stream",
          "name": "stdout",
          "text": [
            "Dataset dimensions: (252, 165)\n",
            "\n",
            "Column names and data types:\n",
            "No                                                                                                                   object\n",
            "Schoolcode                                                                                                          float64\n",
            "Number                                                                                                              float64\n",
            "Age                                                                                                                 float64\n",
            "What kind of area do you live in? (Please choose one).                                                               object\n",
            "                                                                                                                     ...   \n",
            "27 Education background of your partner                                                                             float64\n",
            "28.1 Have you recently visited a hospital for any physical illness?                                                  object\n",
            "28.2 In the past two weeks, have you experienced any of the following symptoms? Please check all the that apply.     object\n",
            "28.3 Have you ever attended a psychiatric session, taken any psychosomatic medicine or visited a mental clinic?      object\n",
            "29. Did your child are diagnose as a special need child?                                                             object\n",
            "Length: 165, dtype: object\n",
            "\n",
            "Sample rows:\n",
            "                     No  Schoolcode  Number   Age  \\\n",
            "0  How to read the data         NaN     NaN   NaN   \n",
            "1                     1         1.0     1.0  36.0   \n",
            "2                     2         1.0     2.0  37.0   \n",
            "3                     3         1.0     3.0  42.0   \n",
            "4                     4         1.0     4.0  40.0   \n",
            "\n",
            "  What kind of area do you live in? (Please choose one).  \\\n",
            "0                                                NaN       \n",
            "1                                               home       \n",
            "2                                              condo       \n",
            "3                                               home       \n",
            "4                                               home       \n",
            "\n",
            "  What is your current marital status?  Partner age  number of children  \\\n",
            "0                                 code          NaN                 NaN   \n",
            "1                                    1          0.0                 1.0   \n",
            "2                                    1         37.0                 1.0   \n",
            "3                                    1         40.0                 1.0   \n",
            "4                                    1         42.0                 2.0   \n",
            "\n",
            "  Child gender  \\\n",
            "0          NaN   \n",
            "1            M   \n",
            "2            F   \n",
            "3            M   \n",
            "4            M   \n",
            "\n",
            "  Please indicate your child's gender, age, and enrollment status. ______  \\\n",
            "0  number of child - age - gender - enrollment st...                        \n",
            "1                                         1-2y-M-Nur                        \n",
            "2                                       1-2.7y-F-Nur                        \n",
            "3                                         1-2y-M-Nur                        \n",
            "4                          1-11y-F-Pri, 2-1.8y-M-Nur                        \n",
            "\n",
            "   ...  \\\n",
            "0  ...   \n",
            "1  ...   \n",
            "2  ...   \n",
            "3  ...   \n",
            "4  ...   \n",
            "\n",
            "  24.5 I think my family (excluding my husband), including my parents, understand the importance of my career development as a working mother and tries to support me adequately.  \\\n",
            "0                                                NaN                                                                                                                                \n",
            "1                                                4.0                                                                                                                                \n",
            "2                                                5.0                                                                                                                                \n",
            "3                                                4.0                                                                                                                                \n",
            "4                                                4.0                                                                                                                                \n",
            "\n",
            "  25 household income during last year : whole family  \\\n",
            "0                                            codeQ25    \n",
            "1                                                  6    \n",
            "2                                                  4    \n",
            "3                                                  5    \n",
            "4                                                  5    \n",
            "\n",
            "  25 household income during last year : self  \\\n",
            "0                                         NaN   \n",
            "1                                         6.0   \n",
            "2                                         2.0   \n",
            "3                                         5.0   \n",
            "4                                         5.0   \n",
            "\n",
            "   25 household income during last year : partner  \\\n",
            "0                                             NaN   \n",
            "1                                             6.0   \n",
            "2                                             4.0   \n",
            "3                                             5.0   \n",
            "4                                             5.0   \n",
            "\n",
            "   26 Education background of yourself  \\\n",
            "0                                  NaN   \n",
            "1                                  7.0   \n",
            "2                                  7.0   \n",
            "3                                  7.0   \n",
            "4                                  8.0   \n",
            "\n",
            "   27 Education background of your partner  \\\n",
            "0                                      NaN   \n",
            "1                                      7.0   \n",
            "2                                      7.0   \n",
            "3                                      8.0   \n",
            "4                                      8.0   \n",
            "\n",
            "  28.1 Have you recently visited a hospital for any physical illness?  \\\n",
            "0                                          codeQ28.1                    \n",
            "1                                            1-Covid                    \n",
            "2                                              1-flu                    \n",
            "3                                                  0                    \n",
            "4                                                  0                    \n",
            "\n",
            "   28.2 In the past two weeks, have you experienced any of the following symptoms? Please check all the that apply.  \\\n",
            "0                                          codeQ28.2                                                                  \n",
            "1                                          1,2,10,12                                                                  \n",
            "2                                                 13                                                                  \n",
            "3                                               2,13                                                                  \n",
            "4                                              10,13                                                                  \n",
            "\n",
            "   28.3 Have you ever attended a psychiatric session, taken any psychosomatic medicine or visited a mental clinic?  \\\n",
            "0                                          codeQ28.3                                                                 \n",
            "1                                                  0                                                                 \n",
            "2                                                  0                                                                 \n",
            "3                                                  0                                                                 \n",
            "4                                                  0                                                                 \n",
            "\n",
            "   29. Did your child are diagnose as a special need child?   \n",
            "0                                            codeQ29          \n",
            "1                                                  0          \n",
            "2                                                  0          \n",
            "3                                                  0          \n",
            "4                                                  0          \n",
            "\n",
            "[5 rows x 165 columns]\n",
            "\n",
            "Summary statistics:\n",
            "       Schoolcode      Number         Age  Partner age  number of children  \\\n",
            "count  251.000000  251.000000  251.000000   251.000000          251.000000   \n",
            "mean     7.147410   18.952191   34.350598    32.705179            1.501992   \n",
            "std      2.685923   15.215180    5.703033    13.117650            0.634820   \n",
            "min      1.000000    1.000000   17.000000     0.000000            1.000000   \n",
            "25%      5.000000    7.000000   30.500000    31.000000            1.000000   \n",
            "50%      8.000000   15.000000   34.000000    36.000000            1.000000   \n",
            "75%      9.000000   27.000000   39.000000    40.000000            2.000000   \n",
            "max     10.000000   62.000000   52.000000    55.000000            4.000000   \n",
            "\n",
            "       6-2 How far aparts do your child(ren) and Maternal grandmother live from each other?  \\\n",
            "count                                         251.000000                                      \n",
            "mean                                            3.414343                                      \n",
            "std                                             1.814286                                      \n",
            "min                                             1.000000                                      \n",
            "25%                                             1.000000                                      \n",
            "50%                                             4.000000                                      \n",
            "75%                                             5.000000                                      \n",
            "max                                             6.000000                                      \n",
            "\n",
            "       6-3 How far aparts do your child(ren) and  Paternal grandfather live from each other?  \\\n",
            "count                                         251.000000                                       \n",
            "mean                                            4.187251                                       \n",
            "std                                             1.729970                                       \n",
            "min                                             1.000000                                       \n",
            "25%                                             3.000000                                       \n",
            "50%                                             5.000000                                       \n",
            "75%                                             6.000000                                       \n",
            "max                                             6.000000                                       \n",
            "\n",
            "       6-4 How far aparts do your child(ren) and   Paternal grandmother live from each other?  \\\n",
            "count                                         251.000000                                        \n",
            "mean                                            3.701195                                        \n",
            "std                                             1.748816                                        \n",
            "min                                             1.000000                                        \n",
            "25%                                             2.000000                                        \n",
            "50%                                             4.000000                                        \n",
            "75%                                             5.000000                                        \n",
            "max                                             6.000000                                        \n",
            "\n",
            "       6.1-2 How much can you rely on  Maternal grandmother for child care?  \\\n",
            "count                                         251.000000                      \n",
            "mean                                            2.916335                      \n",
            "std                                             1.273174                      \n",
            "min                                             1.000000                      \n",
            "25%                                             2.000000                      \n",
            "50%                                             3.000000                      \n",
            "75%                                             4.000000                      \n",
            "max                                             5.000000                      \n",
            "\n",
            "       6.1-3 How much can you rely on Paternal grandfather for child care?  \\\n",
            "count                                         251.000000                     \n",
            "mean                                            2.836653                     \n",
            "std                                             1.557309                     \n",
            "min                                             1.000000                     \n",
            "25%                                             1.000000                     \n",
            "50%                                             3.000000                     \n",
            "75%                                             4.000000                     \n",
            "max                                             5.000000                     \n",
            "\n",
            "       ...  22.18 I find my child(ren) enjoyable.  \\\n",
            "count  ...                             251.000000   \n",
            "mean   ...                               4.669323   \n",
            "std    ...                               0.527461   \n",
            "min    ...                               3.000000   \n",
            "25%    ...                               4.000000   \n",
            "50%    ...                               5.000000   \n",
            "75%    ...                               5.000000   \n",
            "max    ...                               5.000000   \n",
            "\n",
            "       23.2 How much would you recommend other women to have children?  \\\n",
            "count                                         251.000000                 \n",
            "mean                                            5.167331                 \n",
            "std                                             1.407085                 \n",
            "min                                             1.000000                 \n",
            "25%                                             4.000000                 \n",
            "50%                                             5.000000                 \n",
            "75%                                             6.000000                 \n",
            "max                                             7.000000                 \n",
            "\n",
            "       24.2 I think the government and local governments in this country understand the importance of career development for working mothers and are making efforts to support them adequately.  \\\n",
            "count                                         251.000000                                                                                                                                          \n",
            "mean                                            3.071713                                                                                                                                          \n",
            "std                                             1.224270                                                                                                                                          \n",
            "min                                             1.000000                                                                                                                                          \n",
            "25%                                             2.000000                                                                                                                                          \n",
            "50%                                             3.000000                                                                                                                                          \n",
            "75%                                             4.000000                                                                                                                                          \n",
            "max                                             5.000000                                                                                                                                          \n",
            "\n",
            "       24.3 I think my workplace understands the importance of career development for working mothers and tries to support them adequately.  \\\n",
            "count                                         251.000000                                                                                      \n",
            "mean                                            3.633466                                                                                      \n",
            "std                                             0.942929                                                                                      \n",
            "min                                             1.000000                                                                                      \n",
            "25%                                             3.000000                                                                                      \n",
            "50%                                             4.000000                                                                                      \n",
            "75%                                             4.000000                                                                                      \n",
            "max                                             5.000000                                                                                      \n",
            "\n",
            "       24.4 I think my husband (partner) understands the importance of my career development as a working mother and tries to support me adequately.  \\\n",
            "count                                         251.000000                                                                                               \n",
            "mean                                            4.111554                                                                                               \n",
            "std                                             0.873788                                                                                               \n",
            "min                                             1.000000                                                                                               \n",
            "25%                                             4.000000                                                                                               \n",
            "50%                                             4.000000                                                                                               \n",
            "75%                                             5.000000                                                                                               \n",
            "max                                             5.000000                                                                                               \n",
            "\n",
            "       24.5 I think my family (excluding my husband), including my parents, understand the importance of my career development as a working mother and tries to support me adequately.  \\\n",
            "count                                         251.000000                                                                                                                                 \n",
            "mean                                            4.127490                                                                                                                                 \n",
            "std                                             0.698342                                                                                                                                 \n",
            "min                                             2.000000                                                                                                                                 \n",
            "25%                                             4.000000                                                                                                                                 \n",
            "50%                                             4.000000                                                                                                                                 \n",
            "75%                                             5.000000                                                                                                                                 \n",
            "max                                             5.000000                                                                                                                                 \n",
            "\n",
            "       25 household income during last year : self  \\\n",
            "count                                   251.000000   \n",
            "mean                                      4.247012   \n",
            "std                                       1.732842   \n",
            "min                                       1.000000   \n",
            "25%                                       3.000000   \n",
            "50%                                       5.000000   \n",
            "75%                                       6.000000   \n",
            "max                                       7.000000   \n",
            "\n",
            "       25 household income during last year : partner  \\\n",
            "count                                      251.000000   \n",
            "mean                                         4.621514   \n",
            "std                                          1.521899   \n",
            "min                                          1.000000   \n",
            "25%                                          4.000000   \n",
            "50%                                          5.000000   \n",
            "75%                                          6.000000   \n",
            "max                                          7.000000   \n",
            "\n",
            "       26 Education background of yourself  \\\n",
            "count                           251.000000   \n",
            "mean                              6.501992   \n",
            "std                               1.716682   \n",
            "min                               2.000000   \n",
            "25%                               7.000000   \n",
            "50%                               7.000000   \n",
            "75%                               7.000000   \n",
            "max                               9.000000   \n",
            "\n",
            "       27 Education background of your partner  \n",
            "count                               251.000000  \n",
            "mean                                  5.904382  \n",
            "std                                   2.257171  \n",
            "min                                   1.000000  \n",
            "25%                                   4.000000  \n",
            "50%                                   7.000000  \n",
            "75%                                   7.000000  \n",
            "max                                  10.000000  \n",
            "\n",
            "[8 rows x 111 columns]\n"
          ]
        }
      ]
    },
    {
      "cell_type": "markdown",
      "source": [
        "# Data Quality Assessment for Ajarn Sasilak's Dataset\n",
        "\n",
        "In this notebook, we'll perform a thorough quality assessment of the postpartum support dataset. Based on our initial exploration, we know we're working with 252 rows and 165 columns, with the first row containing metadata rather than actual data."
      ],
      "metadata": {
        "id": "5Fn5ybaxsLDU"
      }
    },
    {
      "cell_type": "code",
      "source": [
        "# Make sure we're using the cleaned dataframe (excluding the metadata row)\n",
        "df_clean = df.iloc[1:].reset_index(drop=True)\n",
        "print(f\"Cleaned dataset dimensions: {df_clean.shape}\")"
      ],
      "metadata": {
        "colab": {
          "base_uri": "https://localhost:8080/"
        },
        "id": "7WqTi6_dsPvT",
        "outputId": "7aaba9ca-e3b3-4996-ff1d-4e9aac98bf09"
      },
      "execution_count": 12,
      "outputs": [
        {
          "output_type": "stream",
          "name": "stdout",
          "text": [
            "Cleaned dataset dimensions: (251, 165)\n"
          ]
        }
      ]
    },
    {
      "cell_type": "markdown",
      "source": [
        "## 1. Missing Values Analysis\n",
        "\n",
        "Let's examine the extent of missing data in our dataset. We'll identify columns with the highest percentages of missing values."
      ],
      "metadata": {
        "id": "sR4RwfhusVQ7"
      }
    },
    {
      "cell_type": "code",
      "source": [
        "# Check for missing values with more detail\n",
        "missing_values = df_clean.isnull().sum()\n",
        "missing_percent = (df_clean.isnull().sum() / len(df_clean)) * 100\n",
        "missing_data = pd.concat([missing_values, missing_percent], axis=1)\n",
        "missing_data.columns = ['Missing Values', 'Percentage']\n",
        "\n",
        "# Display columns with missing values, sorted by percentage\n",
        "print(\"Columns with missing values:\")\n",
        "missing_results = missing_data[missing_data['Missing Values'] > 0].sort_values('Percentage', ascending=False)\n",
        "print(missing_results.head(20))\n",
        "\n",
        "# Visualize missing data for columns with highest missing percentages\n",
        "plt.figure(figsize=(12, 6))\n",
        "plt.bar(missing_results.index[:15], missing_results['Percentage'][:15], color='crimson')\n",
        "plt.xticks(rotation=90)\n",
        "plt.xlabel('Columns')\n",
        "plt.ylabel('Missing Percentage')\n",
        "plt.title('Percentage of Missing Values by Column')\n",
        "plt.tight_layout()\n",
        "plt.show()"
      ],
      "metadata": {
        "colab": {
          "base_uri": "https://localhost:8080/",
          "height": 1000
        },
        "id": "DL1hOIB4sXFD",
        "outputId": "02889ce4-1059-4a84-c39d-92bac53543cb"
      },
      "execution_count": 13,
      "outputs": [
        {
          "output_type": "stream",
          "name": "stdout",
          "text": [
            "Columns with missing values:\n",
            "                                                    Missing Values  Percentage\n",
            "Unnamed: 21                                                    238   94.820717\n",
            "Unnamed: 37                                                    236   94.023904\n",
            "10 This question is for those who have already ...               2    0.796813\n",
            "12 Husband's (partner's) work hours : Working h...               1    0.398406\n"
          ]
        },
        {
          "output_type": "stream",
          "name": "stderr",
          "text": [
            "<ipython-input-13-a49f81dd4efc>:19: UserWarning: Tight layout not applied. The bottom and top margins cannot be made large enough to accommodate all Axes decorations.\n",
            "  plt.tight_layout()\n"
          ]
        },
        {
          "output_type": "display_data",
          "data": {
            "text/plain": [
              "<Figure size 1200x600 with 1 Axes>"
            ],
            "image/png": "[encoded data removed]"
          },
          "metadata": {}
        }
      ]
    },
    {
      "cell_type": "markdown",
      "source": [
        "## 2. Check for Duplicates\n",
        "\n",
        "Let's identify any duplicate rows in the dataset."
      ],
      "metadata": {
        "id": "T5GKN6MUspBL"
      }
    },
    {
      "cell_type": "code",
      "source": [
        "# Check for exact duplicates\n",
        "duplicates = df_clean.duplicated().sum()\n",
        "print(f\"Number of exact duplicates: {duplicates}\")\n",
        "\n",
        "# Check for potential near-duplicates based on key identifying columns\n",
        "# Assuming 'No' or a combination of demographic columns might identify unique respondents\n",
        "if 'No' in df_clean.columns:\n",
        "    dup_counts = df_clean['No'].value_counts()\n",
        "    print(\"\\nPotential duplicate IDs:\")\n",
        "    print(dup_counts[dup_counts > 1])"
      ],
      "metadata": {
        "colab": {
          "base_uri": "https://localhost:8080/"
        },
        "id": "KrloaG-Ask0T",
        "outputId": "2049108b-ed90-465d-810e-a5be345e0596"
      },
      "execution_count": 14,
      "outputs": [
        {
          "output_type": "stream",
          "name": "stdout",
          "text": [
            "Number of exact duplicates: 0\n",
            "\n",
            "Potential duplicate IDs:\n",
            "Series([], Name: count, dtype: int64)\n"
          ]
        }
      ]
    },
    {
      "cell_type": "markdown",
      "source": [
        "## 3. Data Type Consistency\n",
        "\n",
        "Many columns may have improper data types due to the metadata row. Let's identify columns that should be numeric and check their current types."
      ],
      "metadata": {
        "id": "D4YSQ6IcssvD"
      }
    },
    {
      "cell_type": "code",
      "source": [
        "# Attempt to convert columns to proper types\n",
        "numeric_cols = []\n",
        "conversion_issues = []\n",
        "\n",
        "for col in df_clean.columns:\n",
        "    try:\n",
        "        # Try converting to numeric and check if any values were actually converted\n",
        "        converted = pd.to_numeric(df_clean[col], errors='coerce')\n",
        "        # If most values are not NaN after conversion, it's likely a numeric column\n",
        "        if converted.notna().sum() > 0.5 * len(df_clean):\n",
        "            numeric_cols.append(col)\n",
        "            # Apply the conversion\n",
        "            df_clean[col] = converted\n",
        "    except:\n",
        "        conversion_issues.append(col)\n",
        "\n",
        "print(f\"Successfully identified {len(numeric_cols)} numeric columns\")\n",
        "print(f\"First 10 numeric columns: {numeric_cols[:10]}\")"
      ],
      "metadata": {
        "colab": {
          "base_uri": "https://localhost:8080/"
        },
        "id": "q-gV1z57soIT",
        "outputId": "09536ca2-8fa1-45de-88f7-b7c1a9fba660"
      },
      "execution_count": 15,
      "outputs": [
        {
          "output_type": "stream",
          "name": "stdout",
          "text": [
            "Successfully identified 149 numeric columns\n",
            "First 10 numeric columns: ['No', 'Schoolcode', 'Number', 'Age', 'What is your current marital status?', 'Partner age', 'number of children', 'familymember', '6-1 How far aparts do your child(ren) and Maternal grandfather live from each other?', '6-2 How far aparts do your child(ren) and Maternal grandmother live from each other?']\n"
          ]
        }
      ]
    },
    {
      "cell_type": "markdown",
      "source": [
        "## 4. Examining Ranges and Outliers\n",
        "\n",
        "Let's analyze the range of values in numeric columns and identify potential outliers."
      ],
      "metadata": {
        "id": "w5kLeoh5sw_7"
      }
    },
    {
      "cell_type": "code",
      "source": [
        "# Display summary statistics for key numeric variables\n",
        "print(\"\\nStatistical summary for demographic variables:\")\n",
        "demographic_cols = [col for col in numeric_cols if col in ['Age', 'Partner age', 'number of children']]\n",
        "if demographic_cols:\n",
        "    print(df_clean[demographic_cols].describe())\n",
        "\n",
        "# Function to detect outliers using z-score method\n",
        "def detect_outliers(df, column):\n",
        "    values = pd.to_numeric(df[column], errors='coerce')\n",
        "    if values.count() > 10:  # Only analyze if we have enough non-null values\n",
        "        z_scores = stats.zscore(values.dropna())\n",
        "        outliers = (abs(z_scores) > 3).sum()\n",
        "        outlier_percent = (outliers / values.count()) * 100\n",
        "        return outliers, outlier_percent\n",
        "    return 0, 0\n",
        "\n",
        "# Check for outliers in numeric columns\n",
        "outlier_results = []\n",
        "for col in numeric_cols:\n",
        "    outliers, outlier_percent = detect_outliers(df_clean, col)\n",
        "    if outliers > 0:\n",
        "        outlier_results.append([col, outliers, outlier_percent])\n",
        "\n",
        "# Display columns with outliers\n",
        "if outlier_results:\n",
        "    outlier_df = pd.DataFrame(outlier_results, columns=['Column', 'Outlier Count', 'Outlier Percentage'])\n",
        "    print(\"\\nColumns with potential outliers (|z-score| > 3):\")\n",
        "    print(outlier_df.sort_values('Outlier Count', ascending=False).head(10))\n",
        "\n",
        "    # Visualize outliers for a few key variables\n",
        "    if demographic_cols:\n",
        "        plt.figure(figsize=(15, 5))\n",
        "        for i, col in enumerate(demographic_cols[:3]):\n",
        "            plt.subplot(1, 3, i+1)\n",
        "            sns.boxplot(x=df_clean[col])\n",
        "            plt.title(f'Boxplot of {col}')\n",
        "        plt.tight_layout()\n",
        "        plt.show()"
      ],
      "metadata": {
        "colab": {
          "base_uri": "https://localhost:8080/",
          "height": 1000
        },
        "id": "_e80Y62tsurD",
        "outputId": "25e6ac47-25a3-427b-8fda-28b41d6ba3b1"
      },
      "execution_count": 16,
      "outputs": [
        {
          "output_type": "stream",
          "name": "stdout",
          "text": [
            "\n",
            "Statistical summary for demographic variables:\n",
            "              Age  Partner age  number of children\n",
            "count  251.000000   251.000000          251.000000\n",
            "mean    34.350598    32.705179            1.501992\n",
            "std      5.703033    13.117650            0.634820\n",
            "min     17.000000     0.000000            1.000000\n",
            "25%     30.500000    31.000000            1.000000\n",
            "50%     34.000000    36.000000            1.000000\n",
            "75%     39.000000    40.000000            2.000000\n",
            "max     52.000000    55.000000            4.000000\n",
            "\n",
            "Columns with potential outliers (|z-score| > 3):\n",
            "                                               Column  Outlier Count  \\\n",
            "4   9 This question is for those who have not yet ...             16   \n",
            "13  14.14 One or both of you say cruel or hurtful ...             13   \n",
            "1                What is your current marital status?             10   \n",
            "7   14.2 My relationship with mypartner is stronge...              8   \n",
            "15            15.2 Cleaning up after meals : Yourself              8   \n",
            "25  16.6 Taking child(ren) outside for walks, etc....              8   \n",
            "21          16.2 Changing diapers : Husband (Partner)              8   \n",
            "24  16.5 Playing with the child(ren) : Husband (Pa...              8   \n",
            "27  16.7 Calming the child(ren) when they are fidg...              8   \n",
            "45  22.3 Caring for my child(ren) sometimes takes ...              7   \n",
            "\n",
            "    Outlier Percentage  \n",
            "4             6.896552  \n",
            "13            5.179283  \n",
            "1             3.984064  \n",
            "7             3.187251  \n",
            "15            3.187251  \n",
            "25            3.187251  \n",
            "21            3.187251  \n",
            "24            3.187251  \n",
            "27            3.187251  \n",
            "45            2.788845  \n"
          ]
        },
        {
          "output_type": "display_data",
          "data": {
            "text/plain": [
              "<Figure size 1500x500 with 3 Axes>"
            ],
            "image/png": "[encoded data removed]"
          },
          "metadata": {}
        }
      ]
    },
    {
      "cell_type": "markdown",
      "source": [
        "## 5. Categorical Variable Analysis\n",
        "\n",
        "Now let's examine the distribution of categorical variables to identify any imbalance."
      ],
      "metadata": {
        "id": "cgh3Vao5tE9L"
      }
    },
    {
      "cell_type": "code",
      "source": [
        "# Identify categorical columns (non-numeric)\n",
        "categorical_cols = [col for col in df_clean.columns if col not in numeric_cols]\n",
        "print(f\"\\nDetected {len(categorical_cols)} categorical columns\")\n",
        "\n",
        "# Analyze a few important categorical variables\n",
        "key_categorical = [\n",
        "    'What kind of area do you live in? (Please choose one).',\n",
        "    'What is your current marital status?',\n",
        "    'Child gender'\n",
        "]\n",
        "\n",
        "for col in key_categorical:\n",
        "    if col in df_clean.columns:\n",
        "        print(f\"\\nValue distribution for {col}:\")\n",
        "        value_counts = df_clean[col].value_counts()\n",
        "        value_percent = (df_clean[col].value_counts() / len(df_clean)) * 100\n",
        "        distribution = pd.concat([value_counts, value_percent], axis=1)\n",
        "        distribution.columns = ['Count', 'Percentage']\n",
        "        print(distribution)\n",
        "\n",
        "        # Visualize the distribution\n",
        "        plt.figure(figsize=(10, 6))\n",
        "        sns.barplot(x=distribution.index, y='Percentage', data=distribution)\n",
        "        plt.title(f'Distribution of {col}')\n",
        "        plt.xticks(rotation=45)\n",
        "        plt.tight_layout()\n",
        "        plt.show()"
      ],
      "metadata": {
        "colab": {
          "base_uri": "https://localhost:8080/",
          "height": 1000
        },
        "id": "cAbrWM_9sy7z",
        "outputId": "ce2b814e-01d0-470e-d907-b00bac4d52a1"
      },
      "execution_count": 17,
      "outputs": [
        {
          "output_type": "stream",
          "name": "stdout",
          "text": [
            "\n",
            "Detected 16 categorical columns\n",
            "\n",
            "Value distribution for What kind of area do you live in? (Please choose one).:\n",
            "                                                    Count  Percentage\n",
            "What kind of area do you live in? (Please choos...                   \n",
            "home                                                  175   69.721116\n",
            "condo                                                  29   11.553785\n",
            "Townhouse                                              19    7.569721\n",
            "rent room                                               7    2.788845\n",
            "apartment                                               7    2.788845\n",
            "shop house                                              5    1.992032\n",
            "home renting                                            5    1.992032\n",
            "government home                                         3    1.195219\n",
            "house in factory                                        1    0.398406\n"
          ]
        },
        {
          "output_type": "display_data",
          "data": {
            "text/plain": [
              "<Figure size 1000x600 with 1 Axes>"
            ],
            "image/png": "[encoded data removed]"
          },
          "metadata": {}
        },
        {
          "output_type": "stream",
          "name": "stdout",
          "text": [
            "\n",
            "Value distribution for What is your current marital status?:\n",
            "                                      Count  Percentage\n",
            "What is your current marital status?                   \n",
            "1                                       232   92.430279\n",
            "3                                        10    3.984064\n",
            "2                                         5    1.992032\n",
            "0                                         4    1.593625\n"
          ]
        },
        {
          "output_type": "display_data",
          "data": {
            "text/plain": [
              "<Figure size 1000x600 with 1 Axes>"
            ],
            "image/png": "[encoded data removed]"
          },
          "metadata": {}
        },
        {
          "output_type": "stream",
          "name": "stdout",
          "text": [
            "\n",
            "Value distribution for Child gender:\n",
            "              Count  Percentage\n",
            "Child gender                   \n",
            "F                93   37.051793\n",
            "M                86   34.262948\n",
            "none             72   28.685259\n"
          ]
        },
        {
          "output_type": "display_data",
          "data": {
            "text/plain": [
              "<Figure size 1000x600 with 1 Axes>"
            ],
            "image/png": "[encoded data removed]"
          },
          "metadata": {}
        }
      ]
    },
    {
      "cell_type": "markdown",
      "source": [
        "## 6. Inconsistent Formatting Check\n",
        "\n",
        "Let's check for inconsistent formatting in key text variables."
      ],
      "metadata": {
        "id": "xj8du3bJtKdT"
      }
    },
    {
      "cell_type": "code",
      "source": [
        "# Examine format consistency in text columns\n",
        "print(\"\\nChecking for inconsistent formatting in key text variables...\")\n",
        "for col in categorical_cols[:5]:  # First 5 categorical columns\n",
        "    unique_values = df_clean[col].dropna().unique()\n",
        "    print(f\"\\nSample of unique values in {col} ({len(unique_values)} total):\")\n",
        "    # Show a sample of unique values (up to 10)\n",
        "    sample_size = min(10, len(unique_values))\n",
        "    print(unique_values[:sample_size])\n",
        "\n",
        "    # Check for potential issues like leading/trailing spaces\n",
        "    space_issues = sum(df_clean[col].astype(str).str.startswith(' ') |\n",
        "                     df_clean[col].astype(str).str.endswith(' '))\n",
        "    if space_issues > 0:\n",
        "        print(f\"Warning: {space_issues} values have leading or trailing spaces\")"
      ],
      "metadata": {
        "colab": {
          "base_uri": "https://localhost:8080/"
        },
        "id": "CNPLPz9_tHYT",
        "outputId": "505a51a0-f205-4bdf-cba2-0b1ee290fa7d"
      },
      "execution_count": 18,
      "outputs": [
        {
          "output_type": "stream",
          "name": "stdout",
          "text": [
            "\n",
            "Checking for inconsistent formatting in key text variables...\n",
            "\n",
            "Sample of unique values in What kind of area do you live in? (Please choose one). (9 total):\n",
            "['home' 'condo' 'Townhouse' 'rent room' 'shop house' 'home renting'\n",
            " 'apartment' 'government home' 'house in factory']\n",
            "\n",
            "Sample of unique values in Child gender (3 total):\n",
            "['M' 'F' 'none']\n",
            "\n",
            "Sample of unique values in Please indicate your child's gender, age, and enrollment status. ______ (176 total):\n",
            "['1-2y-M-Nur' '1-2.7y-F-Nur' '1-11y-F-Pri, 2-1.8y-M-Nur'\n",
            " '1-2.4y-M-Nur, 2-7m15d-F-Grandma' '1-6.6y-F-K3, 2-1.8y-F-Nur'\n",
            " '1-1.4y-M-Nur' '1-2.5y-F-Nur' '1-11m-F-Nur' '1-3y-M-Kin, 2-9m-F-Nur'\n",
            " '1-18y-Uni, 2-5m-F-Nur']\n",
            "\n",
            "Sample of unique values in How many family members currently live with you? _____ people (98 total):\n",
            "['3-1,2(1)' '4-1,2(1),6' '4-1,2(2)' '2-2(1)' '5-1,2(2),6' '5-1,2(3)'\n",
            " '6-1,2(1),4,9(ยาย หลาน น้า)' '7-1,2(2),3,4,9(พี่สาว)'\n",
            " '5-1,2(1),4,9(น้องชาย)' '5-1,2(1),4,9(น้องสาว หลานสาว)']\n",
            "\n",
            "Sample of unique values in Unnamed: 21 (7 total):\n",
            "['Instructor' 'private company' 'Emplyee' 'Physical disorder'\n",
            " 'Government employee' 'christain church' 'sale']\n"
          ]
        }
      ]
    },
    {
      "cell_type": "markdown",
      "source": [
        "## 7. Data Quality Summary\n",
        "\n",
        "Based on our analysis, here's a summary of the data quality issues found and recommendations for data cleaning."
      ],
      "metadata": {
        "id": "rCCSzHBCtQ6z"
      }
    },
    {
      "cell_type": "code",
      "source": [
        "# Create a summary of data quality issues found\n",
        "print(\"DATA QUALITY ASSESSMENT SUMMARY\")\n",
        "print(\"===============================\")\n",
        "print(f\"1. Dataset dimensions after removing metadata row: {df_clean.shape}\")\n",
        "print(f\"2. Missing values: {missing_values.sum()} total across {len(missing_results)} columns\")\n",
        "print(f\"3. Duplicate rows: {duplicates}\")\n",
        "print(f\"4. Columns with outliers: {len(outlier_results) if 'outlier_results' in locals() else 'Not calculated'}\")\n",
        "print(f\"5. Numeric columns identified: {len(numeric_cols)}\")\n",
        "print(f\"6. Categorical columns identified: {len(categorical_cols)}\")\n",
        "print(\"\\nRecommended next steps for data cleaning:\")\n",
        "print(\"- Handle missing values (imputation or removal)\")\n",
        "print(\"- Address identified outliers\")\n",
        "print(\"- Standardize inconsistent formatting\")\n",
        "print(\"- Convert columns to appropriate data types\")"
      ],
      "metadata": {
        "colab": {
          "base_uri": "https://localhost:8080/"
        },
        "id": "TnHgKYr7tMaz",
        "outputId": "8719f234-a3d5-4999-ba8e-279c1eb59d50"
      },
      "execution_count": 19,
      "outputs": [
        {
          "output_type": "stream",
          "name": "stdout",
          "text": [
            "DATA QUALITY ASSESSMENT SUMMARY\n",
            "===============================\n",
            "1. Dataset dimensions after removing metadata row: (251, 165)\n",
            "2. Missing values: 477 total across 4 columns\n",
            "3. Duplicate rows: 0\n",
            "4. Columns with outliers: 58\n",
            "5. Numeric columns identified: 149\n",
            "6. Categorical columns identified: 16\n",
            "\n",
            "Recommended next steps for data cleaning:\n",
            "- Handle missing values (imputation or removal)\n",
            "- Address identified outliers\n",
            "- Standardize inconsistent formatting\n",
            "- Convert columns to appropriate data types\n"
          ]
        }
      ]
    },
    {
      "cell_type": "code",
      "source": [],
      "metadata": {
        "id": "_kuOqvdstS1D"
      },
      "execution_count": 19,
      "outputs": []
    },
    {
      "cell_type": "markdown",
      "source": [
        "### Removing Unnecessary Columns and Metadata Row"
      ],
      "metadata": {
        "id": "2dyIPAH83FFg"
      }
    },
    {
      "cell_type": "markdown",
      "source": [
        "### Remove Unnecessary Columns and Metadata Row"
      ],
      "metadata": {
        "id": "C-PB4GFxviaw"
      }
    },
    {
      "cell_type": "code",
      "source": [
        "# Create a clean dataframe without the metadata row\n",
        "df_clean = df.iloc[1:].reset_index(drop=True)\n",
        "\n",
        "# Identify columns with high missing value percentages (>90%)\n",
        "missing_percent = df_clean.isnull().mean() * 100\n",
        "high_missing_cols = missing_percent[missing_percent > 90].index.tolist()\n",
        "\n",
        "# Display columns that will be removed\n",
        "print(f\"Columns to be removed due to >90% missing values:\")\n",
        "for col in high_missing_cols:\n",
        "    print(f\"- {col}: {missing_percent[col]:.2f}% missing\")\n",
        "\n",
        "# Drop columns with excessive missing values\n",
        "df_clean = df_clean.drop(columns=high_missing_cols)\n",
        "print(f\"\\nRemoved {len(high_missing_cols)} columns with >90% missing values\")\n",
        "print(f\"Dataset dimensions after removing high-missing columns: {df_clean.shape}\")"
      ],
      "metadata": {
        "colab": {
          "base_uri": "https://localhost:8080/"
        },
        "id": "JEdCJc7X3Kbw",
        "outputId": "2c10257f-8f97-44bc-c680-6bbc089a9ca7"
      },
      "execution_count": 20,
      "outputs": [
        {
          "output_type": "stream",
          "name": "stdout",
          "text": [
            "Columns to be removed due to >90% missing values:\n",
            "- Unnamed: 21: 94.82% missing\n",
            "- Unnamed: 37: 94.02% missing\n",
            "\n",
            "Removed 2 columns with >90% missing values\n",
            "Dataset dimensions after removing high-missing columns: (251, 163)\n"
          ]
        }
      ]
    },
    {
      "cell_type": "markdown",
      "source": [
        "### Convert to Appropriate Data Types"
      ],
      "metadata": {
        "id": "3I8NK7Vxvtm3"
      }
    },
    {
      "cell_type": "code",
      "source": [
        "# Convert obvious numeric columns\n",
        "numeric_cols = ['Age', 'Partner age', 'number of children', 'Schoolcode', 'Number']\n",
        "for col in numeric_cols:\n",
        "    if col in df_clean.columns:\n",
        "        df_clean[col] = pd.to_numeric(df_clean[col], errors='coerce')\n",
        "\n",
        "# Display dtypes after conversion\n",
        "print(\"Data types after conversion:\")\n",
        "print(df_clean[numeric_cols].dtypes)"
      ],
      "metadata": {
        "colab": {
          "base_uri": "https://localhost:8080/"
        },
        "id": "fX2-ZSQm3LtQ",
        "outputId": "9505c22d-19ee-40ba-e2d9-f607fa5a5fa4"
      },
      "execution_count": 21,
      "outputs": [
        {
          "output_type": "stream",
          "name": "stdout",
          "text": [
            "Data types after conversion:\n",
            "Age                   float64\n",
            "Partner age           float64\n",
            "number of children    float64\n",
            "Schoolcode            float64\n",
            "Number                float64\n",
            "dtype: object\n"
          ]
        }
      ]
    },
    {
      "cell_type": "markdown",
      "source": [
        "### Decode Child Information"
      ],
      "metadata": {
        "id": "7YsPfnYrvyBH"
      }
    },
    {
      "cell_type": "code",
      "source": [
        "# Parse child information (1-2y-M-Nur format)\n",
        "# This decodes: number of child - age - gender - enrollment status\n",
        "def parse_child_info(info_string):\n",
        "    if pd.isna(info_string):\n",
        "        return pd.NA, pd.NA, pd.NA, pd.NA\n",
        "\n",
        "    # Handle multiple children\n",
        "    children = []\n",
        "    for child in str(info_string).split(', '):\n",
        "        parts = child.split('-')\n",
        "        if len(parts) >= 4:\n",
        "            child_num = parts[0]\n",
        "            age = parts[1]\n",
        "            gender = parts[2]\n",
        "            enrollment = parts[3]\n",
        "            children.append({'child_num': child_num, 'age': age, 'gender': gender, 'enrollment': enrollment})\n",
        "        elif len(parts) == 3:  # If missing one part\n",
        "            child_num = parts[0]\n",
        "            age = parts[1]\n",
        "            gender = parts[2]\n",
        "            enrollment = \"Unknown\"\n",
        "            children.append({'child_num': child_num, 'age': age, 'gender': gender, 'enrollment': enrollment})\n",
        "\n",
        "    # Return info for first child if available\n",
        "    if children:\n",
        "        return (children[0]['child_num'], children[0]['age'],\n",
        "                children[0]['gender'], children[0]['enrollment'])\n",
        "    return pd.NA, pd.NA, pd.NA, pd.NA\n",
        "\n",
        "# Apply the parsing function\n",
        "# Fix: Use double quotes for the column name with an apostrophe\n",
        "child_info_col = \"Please indicate your child's gender, age, and enrollment status. ______\"\n",
        "if child_info_col in df_clean.columns:\n",
        "    parsed_info = df_clean[child_info_col].apply(parse_child_info)\n",
        "\n",
        "    # Create new columns with the parsed information\n",
        "    df_clean['first_child_num'] = [x[0] for x in parsed_info]\n",
        "    df_clean['first_child_age'] = [x[1] for x in parsed_info]\n",
        "    df_clean['first_child_gender'] = [x[2] for x in parsed_info]\n",
        "    df_clean['first_child_enrollment'] = [x[3] for x in parsed_info]\n",
        "\n",
        "    # Display sample of parsed child information\n",
        "    print(\"Sample of parsed child information:\")\n",
        "    sample_cols = ['first_child_num', 'first_child_age', 'first_child_gender', 'first_child_enrollment']\n",
        "    print(df_clean[sample_cols].head(10))"
      ],
      "metadata": {
        "colab": {
          "base_uri": "https://localhost:8080/"
        },
        "id": "uGyyS8Jp3PJA",
        "outputId": "9fc1280e-f323-4547-c873-bb2481c8a121"
      },
      "execution_count": 23,
      "outputs": [
        {
          "output_type": "stream",
          "name": "stdout",
          "text": [
            "Sample of parsed child information:\n",
            "  first_child_num first_child_age first_child_gender first_child_enrollment\n",
            "0               1              2y                  M                    Nur\n",
            "1               1            2.7y                  F                    Nur\n",
            "2               1              2y                  M                    Nur\n",
            "3               1             11y                  F                    Pri\n",
            "4               1            2.4y                  M                    Nur\n",
            "5               1            6.6y                  F                     K3\n",
            "6               1            1.4y                  M                    Nur\n",
            "7               1            2.7y                  F                    Nur\n",
            "8               1            2.5y                  F                    Nur\n",
            "9               1              2y                  M                    Nur\n"
          ]
        }
      ]
    },
    {
      "cell_type": "markdown",
      "source": [
        "### Decode Family Member Information"
      ],
      "metadata": {
        "id": "qL8bA8Dtv0sn"
      }
    },
    {
      "cell_type": "code",
      "source": [
        "# Parse family member information (total of family member-code,code(number),code)\n",
        "def parse_family_members(info_string):\n",
        "    if pd.isna(info_string):\n",
        "        return pd.NA, []\n",
        "\n",
        "    # Extract total family members\n",
        "    parts = str(info_string).split('-')\n",
        "    total_members = parts[0] if len(parts) > 0 else pd.NA\n",
        "\n",
        "    # Extract codes\n",
        "    codes = []\n",
        "    if len(parts) > 1 and len(parts[1]) > 0:\n",
        "        # Extract codes and numbers in parentheses\n",
        "        code_part = parts[1]\n",
        "        # Find all patterns like \"1,2(1)\" or \"3,4,9(ยาย หลาน น้า)\"\n",
        "        code_matches = re.findall(r'(\\d+(?:,\\d+)*)\\(([^)]+)\\)', code_part)\n",
        "\n",
        "        for match in code_matches:\n",
        "            code_nums = match[0].split(',')\n",
        "            code_desc = match[1]\n",
        "            for num in code_nums:\n",
        "                codes.append({'code': num, 'description': code_desc})\n",
        "\n",
        "    return total_members, codes\n",
        "\n",
        "# Apply the parsing function\n",
        "family_col = 'How many family members currently live with you? _____ people'\n",
        "if family_col in df_clean.columns:\n",
        "    parsed_family = df_clean[family_col].apply(parse_family_members)\n",
        "\n",
        "    # Create new columns with the parsed information\n",
        "    df_clean['total_family_members'] = [x[0] for x in parsed_family]\n",
        "\n",
        "    # Create indicator columns for common family members\n",
        "    member_codes = {\n",
        "        '1': 'has_husband',\n",
        "        '2': 'has_children',\n",
        "        '3': 'has_father',\n",
        "        '4': 'has_mother',\n",
        "        '5': 'has_father_in_law',\n",
        "        '6': 'has_mother_in_law',\n",
        "        '7': 'has_housekeeper',\n",
        "        '8': 'has_caretaker',\n",
        "        '9': 'has_other_relatives'\n",
        "    }\n",
        "\n",
        "    for code, col_name in member_codes.items():\n",
        "        df_clean[col_name] = parsed_family.apply(\n",
        "            lambda x: any(c['code'] == code for c in x[1]) if isinstance(x[1], list) else False\n",
        "        )\n",
        "\n",
        "    # Display sample of parsed family information\n",
        "    print(\"\\nSample of parsed family member information:\")\n",
        "    family_cols = ['total_family_members'] + list(member_codes.values())\n",
        "    print(df_clean[family_cols].head(10))"
      ],
      "metadata": {
        "id": "EfUDXdCv3RQw",
        "colab": {
          "base_uri": "https://localhost:8080/"
        },
        "outputId": "d935a101-e652-483e-cda5-ce5326be1a61"
      },
      "execution_count": 24,
      "outputs": [
        {
          "output_type": "stream",
          "name": "stdout",
          "text": [
            "\n",
            "Sample of parsed family member information:\n",
            "  total_family_members  has_husband  has_children  has_father  has_mother  \\\n",
            "0                    3         True          True       False       False   \n",
            "1                    3         True          True       False       False   \n",
            "2                    4         True          True       False       False   \n",
            "3                    4         True          True       False       False   \n",
            "4                    2        False          True       False       False   \n",
            "5                    4         True          True       False       False   \n",
            "6                    3         True          True       False       False   \n",
            "7                    3         True          True       False       False   \n",
            "8                    3         True          True       False       False   \n",
            "9                    3         True          True       False       False   \n",
            "\n",
            "   has_father_in_law  has_mother_in_law  has_housekeeper  has_caretaker  \\\n",
            "0              False              False            False          False   \n",
            "1              False              False            False          False   \n",
            "2              False              False            False          False   \n",
            "3              False              False            False          False   \n",
            "4              False              False            False          False   \n",
            "5              False              False            False          False   \n",
            "6              False              False            False          False   \n",
            "7              False              False            False          False   \n",
            "8              False              False            False          False   \n",
            "9              False              False            False          False   \n",
            "\n",
            "   has_other_relatives  \n",
            "0                False  \n",
            "1                False  \n",
            "2                False  \n",
            "3                False  \n",
            "4                False  \n",
            "5                False  \n",
            "6                False  \n",
            "7                False  \n",
            "8                False  \n",
            "9                False  \n"
          ]
        }
      ]
    },
    {
      "cell_type": "markdown",
      "source": [
        "### Flag Outliers for Analysis"
      ],
      "metadata": {
        "id": "25ZWooOavcPg"
      }
    },
    {
      "cell_type": "code",
      "source": [
        "# Identify outliers in key numeric variables\n",
        "outlier_cols = ['Age', 'Partner age', 'number of children']\n",
        "\n",
        "for col in outlier_cols:\n",
        "    if col in df_clean.columns:\n",
        "        # Calculate z-scores\n",
        "        z_scores = stats.zscore(df_clean[col].dropna())\n",
        "\n",
        "        # Flag extreme outliers (|z-score| > 3)\n",
        "        outlier_mask = abs(z_scores) > 3\n",
        "        outlier_indices = np.where(outlier_mask)[0]\n",
        "\n",
        "        # Create outlier flag column\n",
        "        flag_col = f'{col}_outlier_flag'\n",
        "        df_clean[flag_col] = False\n",
        "\n",
        "        # Only set flags if outliers were found\n",
        "        if len(outlier_indices) > 0:\n",
        "            df_clean.loc[df_clean.index[outlier_indices], flag_col] = True\n",
        "\n",
        "        print(f\"Flagged {len(outlier_indices)} outliers in {col}\")\n",
        "\n",
        "# Display records with outliers in key demographic variables\n",
        "outlier_flags = [f'{col}_outlier_flag' for col in outlier_cols]\n",
        "outlier_records = df_clean[df_clean[outlier_flags].any(axis=1)]\n",
        "\n",
        "print(\"\\nSample of records with demographic outliers:\")\n",
        "display_cols = numeric_cols[:5] + outlier_flags\n",
        "if not outlier_records.empty:\n",
        "    print(outlier_records[display_cols].head())\n",
        "else:\n",
        "    print(\"No demographic outliers found.\")"
      ],
      "metadata": {
        "colab": {
          "base_uri": "https://localhost:8080/"
        },
        "id": "yShepDB9vaXI",
        "outputId": "96cc0e80-8dd2-40ba-82c3-55047ed3fa6b"
      },
      "execution_count": 25,
      "outputs": [
        {
          "output_type": "stream",
          "name": "stdout",
          "text": [
            "Flagged 2 outliers in Age\n",
            "Flagged 0 outliers in Partner age\n",
            "Flagged 2 outliers in number of children\n",
            "\n",
            "Sample of records with demographic outliers:\n",
            "      Age  Partner age  number of children  Schoolcode  Number  \\\n",
            "86   25.0         20.0                 4.0         6.0    18.0   \n",
            "90   34.0         34.0                 4.0         7.0     4.0   \n",
            "93   17.0          0.0                 1.0         7.0     7.0   \n",
            "142  52.0         55.0                 2.0         9.0     3.0   \n",
            "\n",
            "     Age_outlier_flag  Partner age_outlier_flag  \\\n",
            "86              False                     False   \n",
            "90              False                     False   \n",
            "93               True                     False   \n",
            "142              True                     False   \n",
            "\n",
            "     number of children_outlier_flag  \n",
            "86                              True  \n",
            "90                              True  \n",
            "93                             False  \n",
            "142                            False  \n"
          ]
        }
      ]
    },
    {
      "cell_type": "markdown",
      "source": [
        "### Create Analysis-Ready Variables"
      ],
      "metadata": {
        "id": "VFhE4-Npv_Wv"
      }
    },
    {
      "cell_type": "code",
      "source": [
        "# Create child age variables\n",
        "if 'first_child_age' in df_clean.columns:\n",
        "    # Extract numeric age from strings like \"2y\" or \"11m\"\n",
        "    def extract_age_months(age_str):\n",
        "        if pd.isna(age_str):\n",
        "            return np.nan  # Use numpy's nan instead of pandas NA\n",
        "\n",
        "        age_str = str(age_str)\n",
        "        # Extract years\n",
        "        years_match = re.search(r'(\\d+(?:\\.\\d+)?)y', age_str)\n",
        "        if years_match:\n",
        "            return float(years_match.group(1)) * 12\n",
        "\n",
        "        # Extract months\n",
        "        months_match = re.search(r'(\\d+(?:\\.\\d+)?)m', age_str)\n",
        "        if months_match:\n",
        "            return float(months_match.group(1))\n",
        "\n",
        "        return np.nan  # Use numpy's nan instead of pandas NA\n",
        "\n",
        "    df_clean['first_child_age_months'] = df_clean['first_child_age'].apply(extract_age_months)\n",
        "\n",
        "    # Drop NA values before binning or handle them explicitly\n",
        "    # Method 1: Create age groups for non-NA values only\n",
        "    mask = df_clean['first_child_age_months'].notna()\n",
        "    df_clean.loc[mask, 'child_age_group'] = pd.cut(\n",
        "        df_clean.loc[mask, 'first_child_age_months'],\n",
        "        bins=[0, 6, 12, 24, 36, float('inf')],\n",
        "        labels=['0-6 months', '7-12 months', '1-2 years', '2-3 years', '3+ years']\n",
        "    )\n",
        "\n",
        "    # Display child age group distribution\n",
        "    child_age_counts = df_clean['child_age_group'].value_counts().sort_index()\n",
        "    print(\"\\nChild age group distribution:\")\n",
        "    print(child_age_counts)\n",
        "\n",
        "    # Visualize child age groups\n",
        "    plt.figure(figsize=(10, 6))\n",
        "    ax = sns.countplot(x='child_age_group', data=df_clean)\n",
        "    plt.title(\"Distribution of Children by Age Group\")\n",
        "    plt.xlabel(\"Age Group\")\n",
        "    plt.ylabel(\"Count\")\n",
        "\n",
        "    # Add count labels on top of each bar\n",
        "    for p in ax.patches:\n",
        "        ax.annotate(f'{int(p.get_height())}',\n",
        "                    (p.get_x() + p.get_width() / 2., p.get_height()),\n",
        "                    ha = 'center', va = 'bottom')\n",
        "\n",
        "    plt.tight_layout()\n",
        "    plt.show()"
      ],
      "metadata": {
        "colab": {
          "base_uri": "https://localhost:8080/",
          "height": 763
        },
        "id": "6xr8wqxDv53n",
        "outputId": "9e721095-dd18-4655-f7bd-51dd0e225b44"
      },
      "execution_count": 27,
      "outputs": [
        {
          "output_type": "stream",
          "name": "stdout",
          "text": [
            "\n",
            "Child age group distribution:\n",
            "child_age_group\n",
            "0-6 months      1\n",
            "7-12 months     9\n",
            "1-2 years      86\n",
            "2-3 years      43\n",
            "3+ years       80\n",
            "Name: count, dtype: int64\n"
          ]
        },
        {
          "output_type": "display_data",
          "data": {
            "text/plain": [
              "<Figure size 1000x600 with 1 Axes>"
            ],
            "image/png": "[encoded data removed]"
          },
          "metadata": {}
        }
      ]
    },
    {
      "cell_type": "markdown",
      "source": [
        "###Review and Export Cleaned Data"
      ],
      "metadata": {
        "id": "LYboTIllwM2I"
      }
    },
    {
      "cell_type": "code",
      "source": [
        "# Final data review\n",
        "print(f\"\\nFinal cleaned dataset dimensions: {df_clean.shape}\")\n",
        "print(\"\\nColumns in cleaned dataset:\")\n",
        "print(df_clean.columns.tolist()[:10])  # First 10 columns\n",
        "\n",
        "# Check for remaining missing values in key columns\n",
        "key_cols = ['Age', 'first_child_age', 'total_family_members']\n",
        "missing_in_key = {col: df_clean[col].isna().sum() for col in key_cols if col in df_clean.columns}\n",
        "print(\"\\nMissing values in key columns:\")\n",
        "for col, count in missing_in_key.items():\n",
        "    print(f\"- {col}: {count} missing values ({count/len(df_clean)*100:.2f}%)\")\n",
        "\n",
        "# Summary statistics for key numeric variables after cleaning\n",
        "print(\"\\nSummary statistics for key variables after cleaning:\")\n",
        "print(df_clean[['Age', 'Partner age', 'number of children']].describe())\n",
        "\n",
        "# Save the cleaned dataset\n",
        "df_clean.to_csv('Sasilak_dataset_cleaned.csv', index=False)\n",
        "print(\"\\nCleaned dataset saved as 'Sasilak_dataset_cleaned.csv'\")"
      ],
      "metadata": {
        "colab": {
          "base_uri": "https://localhost:8080/"
        },
        "id": "Eg3vaDR1wCJ4",
        "outputId": "3a0f92c8-feca-40d0-b188-cccebe131574"
      },
      "execution_count": 28,
      "outputs": [
        {
          "output_type": "stream",
          "name": "stdout",
          "text": [
            "\n",
            "Final cleaned dataset dimensions: (251, 183)\n",
            "\n",
            "Columns in cleaned dataset:\n",
            "['No', 'Schoolcode', 'Number', 'Age', 'What kind of area do you live in? (Please choose one).', 'What is your current marital status?', 'Partner age', 'number of children', 'Child gender', \"Please indicate your child's gender, age, and enrollment status. ______\"]\n",
            "\n",
            "Missing values in key columns:\n",
            "- Age: 0 missing values (0.00%)\n",
            "- first_child_age: 28 missing values (11.16%)\n",
            "- total_family_members: 0 missing values (0.00%)\n",
            "\n",
            "Summary statistics for key variables after cleaning:\n",
            "              Age  Partner age  number of children\n",
            "count  251.000000   251.000000          251.000000\n",
            "mean    34.350598    32.705179            1.501992\n",
            "std      5.703033    13.117650            0.634820\n",
            "min     17.000000     0.000000            1.000000\n",
            "25%     30.500000    31.000000            1.000000\n",
            "50%     34.000000    36.000000            1.000000\n",
            "75%     39.000000    40.000000            2.000000\n",
            "max     52.000000    55.000000            4.000000\n",
            "\n",
            "Cleaned dataset saved as 'Sasilak_dataset_cleaned.csv'\n"
          ]
        }
      ]
    },
    {
      "cell_type": "code",
      "source": [
        "!jupyter nbconvert --execute --to html \"/content/Data_Analysis_Aj_Sasilak.ipynb\""
      ],
      "metadata": {
        "colab": {
          "base_uri": "https://localhost:8080/"
        },
        "id": "9vBTG7XFxaV3",
        "outputId": "2b61afea-3926-4c23-d3cc-81f221f76324"
      },
      "execution_count": 29,
      "outputs": [
        {
          "output_type": "stream",
          "name": "stdout",
          "text": [
            "[NbConvertApp] Converting notebook /content/Data_Analysis_Aj_Sasilak.ipynb to html\n",
            "0.00s - Debugger warning: It seems that frozen modules are being used, which may\n",
            "0.00s - make the debugger miss breakpoints. Please pass -Xfrozen_modules=off\n",
            "0.00s - to python to disable frozen modules.\n",
            "0.00s - Note: Debugging will proceed. Set PYDEVD_DISABLE_FILE_VALIDATION=1 to disable this validation.\n",
            "0.00s - Debugger warning: It seems that frozen modules are being used, which may\n",
            "0.00s - make the debugger miss breakpoints. Please pass -Xfrozen_modules=off\n",
            "0.00s - to python to disable frozen modules.\n",
            "0.00s - Note: Debugging will proceed. Set PYDEVD_DISABLE_FILE_VALIDATION=1 to disable this validation.\n",
            "[NbConvertApp] WARNING | Alternative text is missing on 6 image(s).\n",
            "[NbConvertApp] Writing 643331 bytes to /content/Data_Analysis_Aj_Sasilak.html\n"
          ]
        }
      ]
    }
  ]
}